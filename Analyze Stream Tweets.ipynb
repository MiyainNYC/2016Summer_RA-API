{
 "cells": [
  {
   "cell_type": "code",
   "execution_count": 1,
   "metadata": {
    "collapsed": true
   },
   "outputs": [],
   "source": [
    "%matplotlib inline\n",
    "\n",
    "import sqlite3 as lite\n",
    "import sys\n",
    "\n",
    "con = lite.connect('tweets.db')\n",
    "\n",
    "with con:    \n",
    "    \n",
    "    cur = con.cursor()    \n",
    "    cur.execute(\"SELECT * FROM tweets\")\n",
    "\n",
    "    rows = cur.fetchall()"
   ]
  },
  {
   "cell_type": "code",
   "execution_count": 2,
   "metadata": {
    "collapsed": false
   },
   "outputs": [
    {
     "data": {
      "text/plain": [
       "(u'Wed Aug 10 11:28:30 +0000 2016',\n",
       " u'ICYMI: #Delta debacle strands Round Rock teen in Europe. Dream trip turned travel nightmare https://t.co/wxjkJJwuWl https://t.co/xSRZqeyWdM',\n",
       " u'Austin, Texas',\n",
       " 0)"
      ]
     },
     "execution_count": 2,
     "metadata": {},
     "output_type": "execute_result"
    }
   ],
   "source": [
    "rows[0]"
   ]
  },
  {
   "cell_type": "code",
   "execution_count": 3,
   "metadata": {
    "collapsed": false
   },
   "outputs": [
    {
     "data": {
      "text/plain": [
       "Nigeria            2195\n",
       "United States      1761\n",
       "Lagos, Nigeria     1328\n",
       "Los Angeles, CA     795\n",
       "New York, NY        753\n",
       "Atlanta, GA         742\n",
       "USA                 588\n",
       "Lagos               436\n",
       "Worldwide           390\n",
       "Global              382\n",
       "dtype: int64"
      ]
     },
     "execution_count": 3,
     "metadata": {},
     "output_type": "execute_result"
    }
   ],
   "source": [
    "import pandas as pd\n",
    "pd.Series(map(lambda x:x[2], rows)).value_counts()[:10]"
   ]
  },
  {
   "cell_type": "code",
   "execution_count": 4,
   "metadata": {
    "collapsed": false
   },
   "outputs": [],
   "source": [
    "from datetime import datetime"
   ]
  },
  {
   "cell_type": "code",
   "execution_count": 5,
   "metadata": {
    "collapsed": false
   },
   "outputs": [],
   "source": [
    "def convert_time(date):\n",
    "    date_convert = ' '.join(str(date).split()[:-2])\n",
    "    time = date_convert + ' ' + str(date).split()[-1]\n",
    "    return datetime.strptime(time,'%a %b %d %H:%M:%S %Y')\n",
    "    \n",
    "time = map(convert_time,map(lambda x:x[0], rows))"
   ]
  },
  {
   "cell_type": "code",
   "execution_count": 6,
   "metadata": {
    "collapsed": false
   },
   "outputs": [],
   "source": [
    "tweets_dict = {'time':pd.Series(time),\n",
    "               'content':map(lambda x:x[1], rows),\n",
    "               'location':map(lambda x:x[2],rows),\n",
    "               'Retweet':map(lambda x:x[3],rows)\n",
    "              }"
   ]
  },
  {
   "cell_type": "code",
   "execution_count": 7,
   "metadata": {
    "collapsed": false
   },
   "outputs": [
    {
     "data": {
      "text/html": [
       "<div>\n",
       "<table border=\"1\" class=\"dataframe\">\n",
       "  <thead>\n",
       "    <tr style=\"text-align: right;\">\n",
       "      <th></th>\n",
       "      <th>Retweet</th>\n",
       "      <th>content</th>\n",
       "      <th>location</th>\n",
       "      <th>time</th>\n",
       "    </tr>\n",
       "  </thead>\n",
       "  <tbody>\n",
       "    <tr>\n",
       "      <th>0</th>\n",
       "      <td>0</td>\n",
       "      <td>ICYMI: #Delta debacle strands Round Rock teen ...</td>\n",
       "      <td>Austin, Texas</td>\n",
       "      <td>2016-08-10 11:28:30</td>\n",
       "    </tr>\n",
       "    <tr>\n",
       "      <th>1</th>\n",
       "      <td>0</td>\n",
       "      <td>RT @hartman3000: 3 cancelled @delta flights an...</td>\n",
       "      <td>None</td>\n",
       "      <td>2016-08-10 11:28:34</td>\n",
       "    </tr>\n",
       "    <tr>\n",
       "      <th>2</th>\n",
       "      <td>0</td>\n",
       "      <td>RT @naturvardsverk: Vad betyder miljön för dig...</td>\n",
       "      <td>None</td>\n",
       "      <td>2016-08-10 11:28:39</td>\n",
       "    </tr>\n",
       "    <tr>\n",
       "      <th>3</th>\n",
       "      <td>0</td>\n",
       "      <td>Trzeci dzień problemów. Delta Air Lines odwoła...</td>\n",
       "      <td>Poland</td>\n",
       "      <td>2016-08-10 11:28:39</td>\n",
       "    </tr>\n",
       "    <tr>\n",
       "      <th>4</th>\n",
       "      <td>0</td>\n",
       "      <td>RT @OlufemiAjasa: The Niger Delta Crusaders,Mu...</td>\n",
       "      <td>Jos.Plateau state.Nigeria</td>\n",
       "      <td>2016-08-10 11:28:40</td>\n",
       "    </tr>\n",
       "  </tbody>\n",
       "</table>\n",
       "</div>"
      ],
      "text/plain": [
       "   Retweet                                            content  \\\n",
       "0        0  ICYMI: #Delta debacle strands Round Rock teen ...   \n",
       "1        0  RT @hartman3000: 3 cancelled @delta flights an...   \n",
       "2        0  RT @naturvardsverk: Vad betyder miljön för dig...   \n",
       "3        0  Trzeci dzień problemów. Delta Air Lines odwoła...   \n",
       "4        0  RT @OlufemiAjasa: The Niger Delta Crusaders,Mu...   \n",
       "\n",
       "                    location                time  \n",
       "0              Austin, Texas 2016-08-10 11:28:30  \n",
       "1                       None 2016-08-10 11:28:34  \n",
       "2                       None 2016-08-10 11:28:39  \n",
       "3                     Poland 2016-08-10 11:28:39  \n",
       "4  Jos.Plateau state.Nigeria 2016-08-10 11:28:40  "
      ]
     },
     "execution_count": 7,
     "metadata": {},
     "output_type": "execute_result"
    }
   ],
   "source": [
    "df_tweets = pd.DataFrame(tweets_dict)\n",
    "df_tweets.head()"
   ]
  },
  {
   "cell_type": "code",
   "execution_count": 8,
   "metadata": {
    "collapsed": false
   },
   "outputs": [],
   "source": [
    "def extract_day(time):\n",
    "    return time.day\n",
    "def extract_hour(time):\n",
    "    return time.hour"
   ]
  },
  {
   "cell_type": "code",
   "execution_count": 9,
   "metadata": {
    "collapsed": true
   },
   "outputs": [],
   "source": [
    "df_tweets['day'] = map(extract_day,df_tweets['time'])\n",
    "df_tweets['hour'] = map(extract_hour,df_tweets['time'])"
   ]
  },
  {
   "cell_type": "code",
   "execution_count": 10,
   "metadata": {
    "collapsed": true
   },
   "outputs": [],
   "source": [
    "import matplotlib.pyplot as plt"
   ]
  },
  {
   "cell_type": "code",
   "execution_count": 14,
   "metadata": {
    "collapsed": false
   },
   "outputs": [],
   "source": [
    "df_tweets_us = df_tweets[df_tweets['location'] == 'United States']"
   ]
  },
  {
   "cell_type": "code",
   "execution_count": 21,
   "metadata": {
    "collapsed": false
   },
   "outputs": [
    {
     "data": {
      "text/plain": [
       "<matplotlib.axes._subplots.AxesSubplot at 0xf238780>"
      ]
     },
     "execution_count": 21,
     "metadata": {},
     "output_type": "execute_result"
    },
    {
     "data": {
      "image/png": "[encoded data removed]",
      "text/plain": [
       "<matplotlib.figure.Figure at 0xdd0fa20>"
      ]
     },
     "metadata": {},
     "output_type": "display_data"
    }
   ],
   "source": [
    "df_tweets.groupby(['day','hour']).count()['time'].plot(label = 'all')\n",
    "df_tweets_us.groupby(['day','hour']).count()['time'].plot(label = 'US',title = 'US vs all')"
   ]
  },
  {
   "cell_type": "code",
   "execution_count": 22,
   "metadata": {
    "collapsed": false
   },
   "outputs": [
    {
     "data": {
      "text/plain": [
       "<matplotlib.axes._subplots.AxesSubplot at 0xd74c6d8>"
      ]
     },
     "execution_count": 22,
     "metadata": {},
     "output_type": "execute_result"
    },
    {
     "data": {
      "image/png": "[encoded data removed]",
      "text/plain": [
       "<matplotlib.figure.Figure at 0xd7573c8>"
      ]
     },
     "metadata": {},
     "output_type": "display_data"
    }
   ],
   "source": [
    "df_tweets_us.groupby(['day','hour']).count()['time'].plot(title = 'US')"
   ]
  },
  {
   "cell_type": "code",
   "execution_count": null,
   "metadata": {
    "collapsed": true
   },
   "outputs": [],
   "source": []
  },
  {
   "cell_type": "markdown",
   "metadata": {},
   "source": [
    "## Time Series Analysis"
   ]
  }
 ],
 "metadata": {
  "anaconda-cloud": {},
  "kernelspec": {
   "display_name": "Python [Root]",
   "language": "python",
   "name": "Python [Root]"
  },
  "language_info": {
   "codemirror_mode": {
    "name": "ipython",
    "version": 2
   },
   "file_extension": ".py",
   "mimetype": "text/x-python",
   "name": "python",
   "nbconvert_exporter": "python",
   "pygments_lexer": "ipython2",
   "version": "2.7.12"
  }
 },
 "nbformat": 4,
 "nbformat_minor": 0
}
