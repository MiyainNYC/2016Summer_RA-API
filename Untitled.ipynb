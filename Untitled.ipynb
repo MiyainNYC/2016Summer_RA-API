{
 "cells": [
  {
   "cell_type": "code",
   "execution_count": 1,
   "metadata": {
    "collapsed": true
   },
   "outputs": [],
   "source": [
    "import graphlab"
   ]
  },
  {
   "cell_type": "code",
   "execution_count": 2,
   "metadata": {
    "collapsed": true
   },
   "outputs": [],
   "source": [
    "import re"
   ]
  },
  {
   "cell_type": "code",
   "execution_count": 3,
   "metadata": {
    "collapsed": false
   },
   "outputs": [
    {
     "name": "stdout",
     "output_type": "stream",
     "text": [
      "This non-commercial license of GraphLab Create is assigned to nwang26@fordham.edu and will expire on July 06, 2017. For commercial licensing options, visit https://turi.com/buy/.\n"
     ]
    },
    {
     "name": "stderr",
     "output_type": "stream",
     "text": [
      "[INFO] graphlab.cython.cy_server: GraphLab Create v2.0.1 started. Logging: C:\\Users\\Miya\\AppData\\Local\\Temp\\graphlab_server_1468593354.log.0\n"
     ]
    },
    {
     "data": {
      "text/html": [
       "<pre>Unable to parse line \"https://t.câ€¦\"\"</pre>"
      ],
      "text/plain": [
       "Unable to parse line \"https://t.câ€¦\"\""
      ]
     },
     "metadata": {},
     "output_type": "display_data"
    },
    {
     "data": {
      "text/html": [
       "<pre>Unable to parse line \"https://t.co/R6AjSSKysq\"\"</pre>"
      ],
      "text/plain": [
       "Unable to parse line \"https://t.co/R6AjSSKysq\"\""
      ]
     },
     "metadata": {},
     "output_type": "display_data"
    },
    {
     "data": {
      "text/html": [
       "<pre>Unable to parse line \"https://t.co/pHnC9KFqm0\"</pre>"
      ],
      "text/plain": [
       "Unable to parse line \"https://t.co/pHnC9KFqm0\""
      ]
     },
     "metadata": {},
     "output_type": "display_data"
    },
    {
     "data": {
      "text/html": [
       "<pre>Unable to parse line \"https:â€¦\"\"</pre>"
      ],
      "text/plain": [
       "Unable to parse line \"https:â€¦\"\""
      ]
     },
     "metadata": {},
     "output_type": "display_data"
    },
    {
     "data": {
      "text/html": [
       "<pre>Unable to parse line \"https://t.co/bx1zsdNHfH\"\"</pre>"
      ],
      "text/plain": [
       "Unable to parse line \"https://t.co/bx1zsdNHfH\"\""
      ]
     },
     "metadata": {},
     "output_type": "display_data"
    },
    {
     "data": {
      "text/html": [
       "<pre>Unable to parse line \"deprecating IE6 and IE7 support: https://t.co/EQtcVnON0A\"\"</pre>"
      ],
      "text/plain": [
       "Unable to parse line \"deprecating IE6 and IE7 support: https://t.co/EQtcVnON0A\"\""
      ]
     },
     "metadata": {},
     "output_type": "display_data"
    },
    {
     "data": {
      "text/html": [
       "<pre>Unable to parse line \"https://t.co/dJHCjbvf ^ARK\"\"</pre>"
      ],
      "text/plain": [
       "Unable to parse line \"https://t.co/dJHCjbvf ^ARK\"\""
      ]
     },
     "metadata": {},
     "output_type": "display_data"
    },
    {
     "data": {
      "text/html": [
       "<pre>Unable to parse line \"https://t.co/LL2GGpaA ^ARK\"\"</pre>"
      ],
      "text/plain": [
       "Unable to parse line \"https://t.co/LL2GGpaA ^ARK\"\""
      ]
     },
     "metadata": {},
     "output_type": "display_data"
    },
    {
     "data": {
      "text/html": [
       "<pre>Unable to parse line \"Tue Aug 31 16:26:13 +0000 2010\"</pre>"
      ],
      "text/plain": [
       "Unable to parse line \"Tue Aug 31 16:26:13 +0000 2010\""
      ]
     },
     "metadata": {},
     "output_type": "display_data"
    },
    {
     "data": {
      "text/html": [
       "<pre>Unable to parse line \"=&gt; nil\"\"</pre>"
      ],
      "text/plain": [
       "Unable to parse line \"=&gt; nil\"\""
      ]
     },
     "metadata": {},
     "output_type": "display_data"
    },
    {
     "data": {
      "text/html": [
       "<pre>28 lines failed to parse correctly</pre>"
      ],
      "text/plain": [
       "28 lines failed to parse correctly"
      ]
     },
     "metadata": {},
     "output_type": "display_data"
    },
    {
     "data": {
      "text/html": [
       "<pre>Finished parsing file C:\\Users\\Miya\\OneDrive\\Miya'sGithub\\2016Summer_RA-API\\twitterapi_tweets.csv</pre>"
      ],
      "text/plain": [
       "Finished parsing file C:\\Users\\Miya\\OneDrive\\Miya'sGithub\\2016Summer_RA-API\\twitterapi_tweets.csv"
      ]
     },
     "metadata": {},
     "output_type": "display_data"
    },
    {
     "data": {
      "text/html": [
       "<pre>Parsing completed. Parsed 100 lines in 0.109078 secs.</pre>"
      ],
      "text/plain": [
       "Parsing completed. Parsed 100 lines in 0.109078 secs."
      ]
     },
     "metadata": {},
     "output_type": "display_data"
    },
    {
     "name": "stdout",
     "output_type": "stream",
     "text": [
      "------------------------------------------------------\n",
      "Inferred types from first 100 line(s) of file as \n",
      "column_type_hints=[long,str,str]\n",
      "If parsing fails due to incorrect types, you can correct\n",
      "the inferred type list above and pass it to read_csv in\n",
      "the column_type_hints argument\n",
      "------------------------------------------------------\n"
     ]
    },
    {
     "data": {
      "text/html": [
       "<pre>Unable to parse line \"https://t.câ€¦\"\"</pre>"
      ],
      "text/plain": [
       "Unable to parse line \"https://t.câ€¦\"\""
      ]
     },
     "metadata": {},
     "output_type": "display_data"
    },
    {
     "data": {
      "text/html": [
       "<pre>Unable to parse line \"https://t.co/R6AjSSKysq\"\"</pre>"
      ],
      "text/plain": [
       "Unable to parse line \"https://t.co/R6AjSSKysq\"\""
      ]
     },
     "metadata": {},
     "output_type": "display_data"
    },
    {
     "data": {
      "text/html": [
       "<pre>Unable to parse line \"https://t.co/pHnC9KFqm0\"</pre>"
      ],
      "text/plain": [
       "Unable to parse line \"https://t.co/pHnC9KFqm0\""
      ]
     },
     "metadata": {},
     "output_type": "display_data"
    },
    {
     "data": {
      "text/html": [
       "<pre>Unable to parse line \"https:â€¦\"\"</pre>"
      ],
      "text/plain": [
       "Unable to parse line \"https:â€¦\"\""
      ]
     },
     "metadata": {},
     "output_type": "display_data"
    },
    {
     "data": {
      "text/html": [
       "<pre>Unable to parse line \"https://t.co/bx1zsdNHfH\"\"</pre>"
      ],
      "text/plain": [
       "Unable to parse line \"https://t.co/bx1zsdNHfH\"\""
      ]
     },
     "metadata": {},
     "output_type": "display_data"
    },
    {
     "data": {
      "text/html": [
       "<pre>Unable to parse line \"deprecating IE6 and IE7 support: https://t.co/EQtcVnON0A\"\"</pre>"
      ],
      "text/plain": [
       "Unable to parse line \"deprecating IE6 and IE7 support: https://t.co/EQtcVnON0A\"\""
      ]
     },
     "metadata": {},
     "output_type": "display_data"
    },
    {
     "data": {
      "text/html": [
       "<pre>Unable to parse line \"https://t.co/dJHCjbvf ^ARK\"\"</pre>"
      ],
      "text/plain": [
       "Unable to parse line \"https://t.co/dJHCjbvf ^ARK\"\""
      ]
     },
     "metadata": {},
     "output_type": "display_data"
    },
    {
     "data": {
      "text/html": [
       "<pre>Unable to parse line \"https://t.co/LL2GGpaA ^ARK\"\"</pre>"
      ],
      "text/plain": [
       "Unable to parse line \"https://t.co/LL2GGpaA ^ARK\"\""
      ]
     },
     "metadata": {},
     "output_type": "display_data"
    },
    {
     "data": {
      "text/html": [
       "<pre>Unable to parse line \" ^MM\"\"</pre>"
      ],
      "text/plain": [
       "Unable to parse line \" ^MM\"\""
      ]
     },
     "metadata": {},
     "output_type": "display_data"
    },
    {
     "data": {
      "text/html": [
       "<pre>Unable to parse line \"Tue Aug 31 16:26:13 +0000 2010\"</pre>"
      ],
      "text/plain": [
       "Unable to parse line \"Tue Aug 31 16:26:13 +0000 2010\""
      ]
     },
     "metadata": {},
     "output_type": "display_data"
    },
    {
     "data": {
      "text/html": [
       "<pre>28 lines failed to parse correctly</pre>"
      ],
      "text/plain": [
       "28 lines failed to parse correctly"
      ]
     },
     "metadata": {},
     "output_type": "display_data"
    },
    {
     "data": {
      "text/html": [
       "<pre>Finished parsing file C:\\Users\\Miya\\OneDrive\\Miya'sGithub\\2016Summer_RA-API\\twitterapi_tweets.csv</pre>"
      ],
      "text/plain": [
       "Finished parsing file C:\\Users\\Miya\\OneDrive\\Miya'sGithub\\2016Summer_RA-API\\twitterapi_tweets.csv"
      ]
     },
     "metadata": {},
     "output_type": "display_data"
    },
    {
     "data": {
      "text/html": [
       "<pre>Parsing completed. Parsed 3245 lines in 0.084061 secs.</pre>"
      ],
      "text/plain": [
       "Parsing completed. Parsed 3245 lines in 0.084061 secs."
      ]
     },
     "metadata": {},
     "output_type": "display_data"
    }
   ],
   "source": [
    "tweets= graphlab.SFrame('twitterapi_tweets.csv')"
   ]
  },
  {
   "cell_type": "code",
   "execution_count": 4,
   "metadata": {
    "collapsed": false
   },
   "outputs": [],
   "source": [
    "tweets['created_at'] = tweets['created_at'].apply(lambda x: x.split(' ')[0])"
   ]
  },
  {
   "cell_type": "code",
   "execution_count": 18,
   "metadata": {
    "collapsed": false
   },
   "outputs": [],
   "source": [
    "tweets_useful = tweets[tweets['text'].apply(lambda x: re.findall(r'https://.+', x)) !=[]]"
   ]
  },
  {
   "cell_type": "code",
   "execution_count": 25,
   "metadata": {
    "collapsed": false
   },
   "outputs": [],
   "source": [
    "links = tweets_useful['text'].apply(lambda x: re.findall(r'https://.+', x)).apply(lambda x: ''.join(x)).apply(lambda x: x.split(' ')[0])"
   ]
  },
  {
   "cell_type": "code",
   "execution_count": 26,
   "metadata": {
    "collapsed": false
   },
   "outputs": [],
   "source": [
    "tweets_useful['links'] = links"
   ]
  },
  {
   "cell_type": "code",
   "execution_count": 94,
   "metadata": {
    "collapsed": false
   },
   "outputs": [],
   "source": [
    "tweets_useful['@person'] = tweets_useful['text'].apply(lambda x: re.findall(r'@[a-zA-Z]+',x)).apply(lambda x: ''.join(x)).apply(lambda x: x.split(' ')[0])"
   ]
  },
  {
   "cell_type": "code",
   "execution_count": 40,
   "metadata": {
    "collapsed": true
   },
   "outputs": [],
   "source": [
    "graphlab.canvas.set_target('ipynb')"
   ]
  },
  {
   "cell_type": "code",
   "execution_count": 95,
   "metadata": {
    "collapsed": false
   },
   "outputs": [
    {
     "data": {
      "application/javascript": [
       "$(\"head\").append($(\"<link/>\").attr({\n",
       "  rel:  \"stylesheet\",\n",
       "  type: \"text/css\",\n",
       "  href: \"//cdnjs.cloudflare.com/ajax/libs/font-awesome/4.1.0/css/font-awesome.min.css\"\n",
       "}));\n",
       "$(\"head\").append($(\"<link/>\").attr({\n",
       "  rel:  \"stylesheet\",\n",
       "  type: \"text/css\",\n",
       "  href: \"https://static.turi.com/products/graphlab-create/2.0.1/canvas/css/canvas.css\"\n",
       "}));\n",
       "\n",
       "            (function(){\n",
       "\n",
       "                var e = null;\n",
       "                if (typeof element == 'undefined') {\n",
       "                    var scripts = document.getElementsByTagName('script');\n",
       "                    var thisScriptTag = scripts[scripts.length-1];\n",
       "                    var parentDiv = thisScriptTag.parentNode;\n",
       "                    e = document.createElement('div');\n",
       "                    parentDiv.appendChild(e);\n",
       "                } else {\n",
       "                    e = element[0];\n",
       "                }\n",
       "\n",
       "                if (typeof requirejs !== 'undefined') {\n",
       "                    // disable load timeout; ipython_app.js is large and can take a while to load.\n",
       "                    requirejs.config({waitSeconds: 0});\n",
       "                }\n",
       "\n",
       "                require(['https://static.turi.com/products/graphlab-create/2.0.1/canvas/js/ipython_app.js'], function(IPythonApp){\n",
       "                    var app = new IPythonApp();\n",
       "                    app.attachView('sarray','Categorical', {\"ipython\": true, \"sketch\": {\"complete\": true, \"numeric\": false, \"num_unique\": 32, \"num_undefined\": 0, \"progress\": 1.0, \"frequent_items\": {\"\": {\"frequency\": 182, \"value\": \"\"}, \"@TwitterDev@twitterdev\": {\"frequency\": 1, \"value\": \"@TwitterDev@twitte ...\"}, \"@twitterapi\": {\"frequency\": 3, \"value\": \"@twitterapi\"}, \"@handle\": {\"frequency\": 1, \"value\": \"@handle\"}, \"@rsarver@twitterapi\": {\"frequency\": 1, \"value\": \"@rsarver@twitterap ...\"}, \"@Anywhere\": {\"frequency\": 2, \"value\": \"@Anywhere\"}, \"@rno@jasoncosta\": {\"frequency\": 1, \"value\": \"@rno@jasoncosta\"}, \"@TwitterOSS@posco@argyris@avibryant\": {\"frequency\": 1, \"value\": \"@TwitterOSS@posco@ ...\"}, \"@JonnySchnittger\": {\"frequency\": 1, \"value\": \"@JonnySchnittger\"}, \"@HooverFlags\": {\"frequency\": 1, \"value\": \"@HooverFlags\"}, \"@rchoi@logicalarthur@lfcipriani\": {\"frequency\": 1, \"value\": \"@rchoi@logicalarth ...\"}, \"@WordPress@Blogger@tumblr\": {\"frequency\": 1, \"value\": \"@WordPress@Blogger ...\"}, \"@meerantj\": {\"frequency\": 1, \"value\": \"@meerantj\"}, \"@ParkInnBelfast@support\": {\"frequency\": 1, \"value\": \"@ParkInnBelfast@su ...\"}, \"@ManoDestra@support\": {\"frequency\": 1, \"value\": \"@ManoDestra@suppor ...\"}, \"@urbandictionary\": {\"frequency\": 1, \"value\": \"@urbandictionary\"}, \"@anywhere\": {\"frequency\": 1, \"value\": \"@anywhere\"}, \"@TwitterDev@Flight\": {\"frequency\": 1, \"value\": \"@TwitterDev@Flight\"}, \"@kurrik@twitterapi\": {\"frequency\": 1, \"value\": \"@kurrik@twitterapi\"}, \"@TwitterOSS@kevino\": {\"frequency\": 1, \"value\": \"@TwitterOSS@kevino\"}, \"@TwitterDev@jbulava\": {\"frequency\": 1, \"value\": \"@TwitterDev@jbulav ...\"}, \"@haliiif@support\": {\"frequency\": 1, \"value\": \"@haliiif@support\"}, \"@benward\": {\"frequency\": 1, \"value\": \"@benward\"}, \"@BillPull\": {\"frequency\": 1, \"value\": \"@BillPull\"}, \"@foetusite\": {\"frequency\": 1, \"value\": \"@foetusite\"}, \"@gnip\": {\"frequency\": 1, \"value\": \"@gnip\"}, \"@fabric\": {\"frequency\": 1, \"value\": \"@fabric\"}, \"@therealjeffpark\": {\"frequency\": 1, \"value\": \"@therealjeffpark\"}, \"@AdsAPI\": {\"frequency\": 5, \"value\": \"@AdsAPI\"}, \"@TwitterDev\": {\"frequency\": 9, \"value\": \"@TwitterDev\"}, \"@tbrd\": {\"frequency\": 1, \"value\": \"@tbrd\"}, \"@gov\": {\"frequency\": 1, \"value\": \"@gov\"}}, \"size\": 228}, \"selected_variable\": {\"name\": [\"<SArray>\"], \"dtype\": \"str\", \"view_component\": \"Categorical\", \"view_file\": \"sarray\", \"descriptives\": {\"rows\": 228}, \"type\": \"SArray\", \"view_components\": [\"Categorical\"]}, \"histogram\": null}, e);\n",
       "                });\n",
       "            })();\n",
       "        "
      ]
     },
     "metadata": {},
     "output_type": "display_data"
    }
   ],
   "source": [
    "tweets_useful['@person'].show(view = 'Categorical')"
   ]
  },
  {
   "cell_type": "code",
   "execution_count": 100,
   "metadata": {
    "collapsed": false
   },
   "outputs": [
    {
     "data": {
      "text/plain": [
       "<bound method SFrame.column_names of Columns:\n",
       "\tid\tint\n",
       "\tcreated_at\tstr\n",
       "\ttext\tstr\n",
       "\tlinks\tstr\n",
       "\t@person\tstr\n",
       "\n",
       "Rows: 228\n",
       "\n",
       "Data:\n",
       "+--------------------+------------+-------------------------------+\n",
       "|         id         | created_at |              text             |\n",
       "+--------------------+------------+-------------------------------+\n",
       "| 745596132462571520 | 2016-06-22 | API support for 140 second... |\n",
       "| 740204101112365056 | 2016-06-07 | The recent oEmbed updates ... |\n",
       "| 738734277123309569 | 2016-06-03 | @twitterapi This change is... |\n",
       "| 737583864801955840 | 2016-05-31 | RT @AdsAPI: Twitter Ads SD... |\n",
       "| 736201038013812737 | 2016-05-27 | Announcing oEmbed support ... |\n",
       "| 735128881808691200 | 2016-05-24 | Information on the upcomin... |\n",
       "| 733680405824602112 | 2016-05-20 | The disruption to https://... |\n",
       "| 733663639002042368 | 2016-05-20 | We are investigating a tem... |\n",
       "| 731219141630234624 | 2016-05-13 | The Streaming API has been... |\n",
       "| 727606098396631040 | 2016-05-03 | MP4 URLs in the Tweet payl... |\n",
       "+--------------------+------------+-------------------------------+\n",
       "+-------------------------+-------------+\n",
       "|          links          |   @person   |\n",
       "+-------------------------+-------------+\n",
       "| https://t.co/zS8cEXrIdX |             |\n",
       "| https://t.co/rxHbAfTcb8 |             |\n",
       "| https://t.co/JPlzzfg9Yr | @twitterapi |\n",
       "| https://t.co/XUQjKa5s2B |   @AdsAPI   |\n",
       "| https://t.co/7WPKgoBENs |             |\n",
       "| https://t.co/V8PTcAL9Cs |             |\n",
       "| https://t.co/tLBVlxZilk |             |\n",
       "| https://t.co/tLBVlxZilk |             |\n",
       "| https://t.co/vSEnUALL8e |             |\n",
       "| https://t.co/v1nOOdkucr |             |\n",
       "+-------------------------+-------------+\n",
       "[228 rows x 5 columns]\n",
       "Note: Only the head of the SFrame is printed.\n",
       "You can use print_rows(num_rows=m, num_columns=n) to print more rows and columns.>"
      ]
     },
     "execution_count": 100,
     "metadata": {},
     "output_type": "execute_result"
    }
   ],
   "source": [
    "tweets_useful.column_names"
   ]
  },
  {
   "cell_type": "code",
   "execution_count": 108,
   "metadata": {
    "collapsed": false
   },
   "outputs": [
    {
     "ename": "KeyError",
     "evalue": "'Cannot find column id'",
     "output_type": "error",
     "traceback": [
      "\u001b[1;31m---------------------------------------------------------------------------\u001b[0m",
      "\u001b[1;31mKeyError\u001b[0m                                  Traceback (most recent call last)",
      "\u001b[1;32m<ipython-input-108-07d2fbc13ad8>\u001b[0m in \u001b[0;36m<module>\u001b[1;34m()\u001b[0m\n\u001b[1;32m----> 1\u001b[1;33m \u001b[0mtweets_useful\u001b[0m\u001b[1;33m.\u001b[0m\u001b[0mremove_columns\u001b[0m\u001b[1;33m(\u001b[0m\u001b[1;33m[\u001b[0m\u001b[1;34m'id'\u001b[0m\u001b[1;33m]\u001b[0m\u001b[1;33m)\u001b[0m\u001b[1;33m\u001b[0m\u001b[0m\n\u001b[0m",
      "\u001b[1;32mC:\\Users\\Miya\\Anaconda2\\envs\\dato-env\\lib\\site-packages\\graphlab\\data_structures\\sframe.pyc\u001b[0m in \u001b[0;36mremove_columns\u001b[1;34m(self, column_names)\u001b[0m\n\u001b[0;32m   3874\u001b[0m         \u001b[1;32mfor\u001b[0m \u001b[0mname\u001b[0m \u001b[1;32min\u001b[0m \u001b[0mcolumn_names\u001b[0m\u001b[1;33m:\u001b[0m\u001b[1;33m\u001b[0m\u001b[0m\n\u001b[0;32m   3875\u001b[0m             \u001b[1;32mif\u001b[0m \u001b[0mname\u001b[0m \u001b[1;32mnot\u001b[0m \u001b[1;32min\u001b[0m \u001b[0mexisting_columns\u001b[0m\u001b[1;33m:\u001b[0m\u001b[1;33m\u001b[0m\u001b[0m\n\u001b[1;32m-> 3876\u001b[1;33m                 \u001b[1;32mraise\u001b[0m \u001b[0mKeyError\u001b[0m\u001b[1;33m(\u001b[0m\u001b[1;34m'Cannot find column %s'\u001b[0m \u001b[1;33m%\u001b[0m \u001b[0mname\u001b[0m\u001b[1;33m)\u001b[0m\u001b[1;33m\u001b[0m\u001b[0m\n\u001b[0m\u001b[0;32m   3877\u001b[0m \u001b[1;33m\u001b[0m\u001b[0m\n\u001b[0;32m   3878\u001b[0m         \u001b[1;31m# Delete it going backwards so we don't invalidate indices\u001b[0m\u001b[1;33m\u001b[0m\u001b[1;33m\u001b[0m\u001b[0m\n",
      "\u001b[1;31mKeyError\u001b[0m: 'Cannot find column id'"
     ]
    }
   ],
   "source": [
    "tweets_useful.remove_columns(['id'])"
   ]
  },
  {
   "cell_type": "code",
   "execution_count": 109,
   "metadata": {
    "collapsed": false
   },
   "outputs": [],
   "source": [
    "tweets_useful.save('tweets_useful', format='csv')"
   ]
  }
 ],
 "metadata": {
  "kernelspec": {
   "display_name": "Python [dato-env]",
   "language": "python",
   "name": "Python [dato-env]"
  },
  "language_info": {
   "codemirror_mode": {
    "name": "ipython",
    "version": 2
   },
   "file_extension": ".py",
   "mimetype": "text/x-python",
   "name": "python",
   "nbconvert_exporter": "python",
   "pygments_lexer": "ipython2",
   "version": "2.7.11"
  }
 },
 "nbformat": 4,
 "nbformat_minor": 0
}
