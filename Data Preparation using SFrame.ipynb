{
 "cells": [
  {
   "cell_type": "code",
   "execution_count": 1,
   "metadata": {
    "collapsed": true
   },
   "outputs": [],
   "source": [
    "import graphlab\n",
    "import re"
   ]
  },
  {
   "cell_type": "markdown",
   "metadata": {},
   "source": [
    "# Read Data"
   ]
  },
  {
   "cell_type": "code",
   "execution_count": 2,
   "metadata": {
    "collapsed": false
   },
   "outputs": [
    {
     "name": "stdout",
     "output_type": "stream",
     "text": [
      "This non-commercial license of GraphLab Create is assigned to nwang26@fordham.edu and will expire on July 06, 2017. For commercial licensing options, visit https://turi.com/buy/.\n"
     ]
    },
    {
     "name": "stderr",
     "output_type": "stream",
     "text": [
      "[INFO] graphlab.cython.cy_server: GraphLab Create v2.0.1 started. Logging: C:\\Users\\Miya\\AppData\\Local\\Temp\\graphlab_server_1468597825.log.0\n"
     ]
    },
    {
     "data": {
      "text/html": [
       "<pre>Unable to parse line \"https://t.câ€¦\"\"</pre>"
      ],
      "text/plain": [
       "Unable to parse line \"https://t.câ€¦\"\""
      ]
     },
     "metadata": {},
     "output_type": "display_data"
    },
    {
     "data": {
      "text/html": [
       "<pre>Unable to parse line \"https://t.co/R6AjSSKysq\"\"</pre>"
      ],
      "text/plain": [
       "Unable to parse line \"https://t.co/R6AjSSKysq\"\""
      ]
     },
     "metadata": {},
     "output_type": "display_data"
    },
    {
     "data": {
      "text/html": [
       "<pre>Unable to parse line \"https://t.co/pHnC9KFqm0\"</pre>"
      ],
      "text/plain": [
       "Unable to parse line \"https://t.co/pHnC9KFqm0\""
      ]
     },
     "metadata": {},
     "output_type": "display_data"
    },
    {
     "data": {
      "text/html": [
       "<pre>Unable to parse line \"https:â€¦\"\"</pre>"
      ],
      "text/plain": [
       "Unable to parse line \"https:â€¦\"\""
      ]
     },
     "metadata": {},
     "output_type": "display_data"
    },
    {
     "data": {
      "text/html": [
       "<pre>Unable to parse line \"https://t.co/bx1zsdNHfH\"\"</pre>"
      ],
      "text/plain": [
       "Unable to parse line \"https://t.co/bx1zsdNHfH\"\""
      ]
     },
     "metadata": {},
     "output_type": "display_data"
    },
    {
     "data": {
      "text/html": [
       "<pre>Unable to parse line \"deprecating IE6 and IE7 support: https://t.co/EQtcVnON0A\"\"</pre>"
      ],
      "text/plain": [
       "Unable to parse line \"deprecating IE6 and IE7 support: https://t.co/EQtcVnON0A\"\""
      ]
     },
     "metadata": {},
     "output_type": "display_data"
    },
    {
     "data": {
      "text/html": [
       "<pre>Unable to parse line \"https://t.co/dJHCjbvf ^ARK\"\"</pre>"
      ],
      "text/plain": [
       "Unable to parse line \"https://t.co/dJHCjbvf ^ARK\"\""
      ]
     },
     "metadata": {},
     "output_type": "display_data"
    },
    {
     "data": {
      "text/html": [
       "<pre>Unable to parse line \"https://t.co/LL2GGpaA ^ARK\"\"</pre>"
      ],
      "text/plain": [
       "Unable to parse line \"https://t.co/LL2GGpaA ^ARK\"\""
      ]
     },
     "metadata": {},
     "output_type": "display_data"
    },
    {
     "data": {
      "text/html": [
       "<pre>Unable to parse line \"Tue Aug 31 16:26:13 +0000 2010\"</pre>"
      ],
      "text/plain": [
       "Unable to parse line \"Tue Aug 31 16:26:13 +0000 2010\""
      ]
     },
     "metadata": {},
     "output_type": "display_data"
    },
    {
     "data": {
      "text/html": [
       "<pre>Unable to parse line \"=&gt; nil\"\"</pre>"
      ],
      "text/plain": [
       "Unable to parse line \"=&gt; nil\"\""
      ]
     },
     "metadata": {},
     "output_type": "display_data"
    },
    {
     "data": {
      "text/html": [
       "<pre>Read 100 lines. Lines per second: 689.161</pre>"
      ],
      "text/plain": [
       "Read 100 lines. Lines per second: 689.161"
      ]
     },
     "metadata": {},
     "output_type": "display_data"
    },
    {
     "data": {
      "text/html": [
       "<pre>28 lines failed to parse correctly</pre>"
      ],
      "text/plain": [
       "28 lines failed to parse correctly"
      ]
     },
     "metadata": {},
     "output_type": "display_data"
    },
    {
     "data": {
      "text/html": [
       "<pre>Finished parsing file C:\\Users\\Miya\\OneDrive\\Miya'sGithub\\2016Summer_RA-API\\twitterapi_tweets.csv</pre>"
      ],
      "text/plain": [
       "Finished parsing file C:\\Users\\Miya\\OneDrive\\Miya'sGithub\\2016Summer_RA-API\\twitterapi_tweets.csv"
      ]
     },
     "metadata": {},
     "output_type": "display_data"
    },
    {
     "data": {
      "text/html": [
       "<pre>Parsing completed. Parsed 100 lines in 0.148106 secs.</pre>"
      ],
      "text/plain": [
       "Parsing completed. Parsed 100 lines in 0.148106 secs."
      ]
     },
     "metadata": {},
     "output_type": "display_data"
    },
    {
     "name": "stdout",
     "output_type": "stream",
     "text": [
      "------------------------------------------------------\n",
      "Inferred types from first 100 line(s) of file as \n",
      "column_type_hints=[long,str,str]\n",
      "If parsing fails due to incorrect types, you can correct\n",
      "the inferred type list above and pass it to read_csv in\n",
      "the column_type_hints argument\n",
      "------------------------------------------------------\n"
     ]
    },
    {
     "data": {
      "text/html": [
       "<pre>Unable to parse line \"https://t.câ€¦\"\"</pre>"
      ],
      "text/plain": [
       "Unable to parse line \"https://t.câ€¦\"\""
      ]
     },
     "metadata": {},
     "output_type": "display_data"
    },
    {
     "data": {
      "text/html": [
       "<pre>Unable to parse line \"https://t.co/R6AjSSKysq\"\"</pre>"
      ],
      "text/plain": [
       "Unable to parse line \"https://t.co/R6AjSSKysq\"\""
      ]
     },
     "metadata": {},
     "output_type": "display_data"
    },
    {
     "data": {
      "text/html": [
       "<pre>Unable to parse line \"https://t.co/pHnC9KFqm0\"</pre>"
      ],
      "text/plain": [
       "Unable to parse line \"https://t.co/pHnC9KFqm0\""
      ]
     },
     "metadata": {},
     "output_type": "display_data"
    },
    {
     "data": {
      "text/html": [
       "<pre>Unable to parse line \"https:â€¦\"\"</pre>"
      ],
      "text/plain": [
       "Unable to parse line \"https:â€¦\"\""
      ]
     },
     "metadata": {},
     "output_type": "display_data"
    },
    {
     "data": {
      "text/html": [
       "<pre>Unable to parse line \"https://t.co/bx1zsdNHfH\"\"</pre>"
      ],
      "text/plain": [
       "Unable to parse line \"https://t.co/bx1zsdNHfH\"\""
      ]
     },
     "metadata": {},
     "output_type": "display_data"
    },
    {
     "data": {
      "text/html": [
       "<pre>Unable to parse line \"deprecating IE6 and IE7 support: https://t.co/EQtcVnON0A\"\"</pre>"
      ],
      "text/plain": [
       "Unable to parse line \"deprecating IE6 and IE7 support: https://t.co/EQtcVnON0A\"\""
      ]
     },
     "metadata": {},
     "output_type": "display_data"
    },
    {
     "data": {
      "text/html": [
       "<pre>Unable to parse line \"https://t.co/dJHCjbvf ^ARK\"\"</pre>"
      ],
      "text/plain": [
       "Unable to parse line \"https://t.co/dJHCjbvf ^ARK\"\""
      ]
     },
     "metadata": {},
     "output_type": "display_data"
    },
    {
     "data": {
      "text/html": [
       "<pre>Unable to parse line \"https://t.co/LL2GGpaA ^ARK\"\"</pre>"
      ],
      "text/plain": [
       "Unable to parse line \"https://t.co/LL2GGpaA ^ARK\"\""
      ]
     },
     "metadata": {},
     "output_type": "display_data"
    },
    {
     "data": {
      "text/html": [
       "<pre>Unable to parse line \"Tue Aug 31 16:26:13 +0000 2010\"</pre>"
      ],
      "text/plain": [
       "Unable to parse line \"Tue Aug 31 16:26:13 +0000 2010\""
      ]
     },
     "metadata": {},
     "output_type": "display_data"
    },
    {
     "data": {
      "text/html": [
       "<pre>Unable to parse line \"=&gt; nil\"\"</pre>"
      ],
      "text/plain": [
       "Unable to parse line \"=&gt; nil\"\""
      ]
     },
     "metadata": {},
     "output_type": "display_data"
    },
    {
     "data": {
      "text/html": [
       "<pre>28 lines failed to parse correctly</pre>"
      ],
      "text/plain": [
       "28 lines failed to parse correctly"
      ]
     },
     "metadata": {},
     "output_type": "display_data"
    },
    {
     "data": {
      "text/html": [
       "<pre>Finished parsing file C:\\Users\\Miya\\OneDrive\\Miya'sGithub\\2016Summer_RA-API\\twitterapi_tweets.csv</pre>"
      ],
      "text/plain": [
       "Finished parsing file C:\\Users\\Miya\\OneDrive\\Miya'sGithub\\2016Summer_RA-API\\twitterapi_tweets.csv"
      ]
     },
     "metadata": {},
     "output_type": "display_data"
    },
    {
     "data": {
      "text/html": [
       "<pre>Parsing completed. Parsed 3245 lines in 0.164116 secs.</pre>"
      ],
      "text/plain": [
       "Parsing completed. Parsed 3245 lines in 0.164116 secs."
      ]
     },
     "metadata": {},
     "output_type": "display_data"
    }
   ],
   "source": [
    "tweets= graphlab.SFrame('twitterapi_tweets.csv')"
   ]
  },
  {
   "cell_type": "markdown",
   "metadata": {},
   "source": [
    "# Data Preparation"
   ]
  },
  {
   "cell_type": "markdown",
   "metadata": {},
   "source": [
    "**Extract Links**"
   ]
  },
  {
   "cell_type": "code",
   "execution_count": 3,
   "metadata": {
    "collapsed": false
   },
   "outputs": [],
   "source": [
    "tweets['created_at'] = tweets['created_at'].apply(lambda x: x.split(' ')[0])"
   ]
  },
  {
   "cell_type": "code",
   "execution_count": 4,
   "metadata": {
    "collapsed": false
   },
   "outputs": [],
   "source": [
    "tweets_useful = tweets[tweets['text'].apply(lambda x: re.findall(r'https://.+', x)) !=[]]"
   ]
  },
  {
   "cell_type": "code",
   "execution_count": 5,
   "metadata": {
    "collapsed": false
   },
   "outputs": [],
   "source": [
    "links = tweets_useful['text'].apply(lambda x: re.findall(r'https://.+', x)).apply(lambda x: ''.join(x)).apply(lambda x: x.split(' ')[0])"
   ]
  },
  {
   "cell_type": "code",
   "execution_count": 6,
   "metadata": {
    "collapsed": false
   },
   "outputs": [],
   "source": [
    "tweets_useful['links'] = links"
   ]
  },
  {
   "cell_type": "markdown",
   "metadata": {},
   "source": [
    "**Extract Target Account**"
   ]
  },
  {
   "cell_type": "code",
   "execution_count": 7,
   "metadata": {
    "collapsed": false
   },
   "outputs": [],
   "source": [
    "tweets_useful['@person'] = tweets_useful['text'].apply(lambda x: re.findall(r'@[a-zA-Z]+',x)).apply(lambda x: ''.join(x)).apply(lambda x: x.split(' ')[0])"
   ]
  },
  {
   "cell_type": "markdown",
   "metadata": {},
   "source": [
    "**Visualize**"
   ]
  },
  {
   "cell_type": "code",
   "execution_count": 8,
   "metadata": {
    "collapsed": true
   },
   "outputs": [],
   "source": [
    "graphlab.canvas.set_target('ipynb')"
   ]
  },
  {
   "cell_type": "code",
   "execution_count": 9,
   "metadata": {
    "collapsed": false
   },
   "outputs": [
    {
     "data": {
      "application/javascript": [
       "$(\"head\").append($(\"<link/>\").attr({\n",
       "  rel:  \"stylesheet\",\n",
       "  type: \"text/css\",\n",
       "  href: \"//cdnjs.cloudflare.com/ajax/libs/font-awesome/4.1.0/css/font-awesome.min.css\"\n",
       "}));\n",
       "$(\"head\").append($(\"<link/>\").attr({\n",
       "  rel:  \"stylesheet\",\n",
       "  type: \"text/css\",\n",
       "  href: \"https://static.turi.com/products/graphlab-create/2.0.1/canvas/css/canvas.css\"\n",
       "}));\n",
       "\n",
       "            (function(){\n",
       "\n",
       "                var e = null;\n",
       "                if (typeof element == 'undefined') {\n",
       "                    var scripts = document.getElementsByTagName('script');\n",
       "                    var thisScriptTag = scripts[scripts.length-1];\n",
       "                    var parentDiv = thisScriptTag.parentNode;\n",
       "                    e = document.createElement('div');\n",
       "                    parentDiv.appendChild(e);\n",
       "                } else {\n",
       "                    e = element[0];\n",
       "                }\n",
       "\n",
       "                if (typeof requirejs !== 'undefined') {\n",
       "                    // disable load timeout; ipython_app.js is large and can take a while to load.\n",
       "                    requirejs.config({waitSeconds: 0});\n",
       "                }\n",
       "\n",
       "                require(['https://static.turi.com/products/graphlab-create/2.0.1/canvas/js/ipython_app.js'], function(IPythonApp){\n",
       "                    var app = new IPythonApp();\n",
       "                    app.attachView('sarray','Categorical', {\"ipython\": true, \"sketch\": {\"complete\": true, \"numeric\": false, \"num_unique\": 32, \"num_undefined\": 0, \"progress\": 1.0, \"frequent_items\": {\"\": {\"frequency\": 182, \"value\": \"\"}, \"@TwitterDev@twitterdev\": {\"frequency\": 1, \"value\": \"@TwitterDev@twitte ...\"}, \"@twitterapi\": {\"frequency\": 3, \"value\": \"@twitterapi\"}, \"@handle\": {\"frequency\": 1, \"value\": \"@handle\"}, \"@rsarver@twitterapi\": {\"frequency\": 1, \"value\": \"@rsarver@twitterap ...\"}, \"@Anywhere\": {\"frequency\": 2, \"value\": \"@Anywhere\"}, \"@rno@jasoncosta\": {\"frequency\": 1, \"value\": \"@rno@jasoncosta\"}, \"@TwitterOSS@posco@argyris@avibryant\": {\"frequency\": 1, \"value\": \"@TwitterOSS@posco@ ...\"}, \"@JonnySchnittger\": {\"frequency\": 1, \"value\": \"@JonnySchnittger\"}, \"@HooverFlags\": {\"frequency\": 1, \"value\": \"@HooverFlags\"}, \"@rchoi@logicalarthur@lfcipriani\": {\"frequency\": 1, \"value\": \"@rchoi@logicalarth ...\"}, \"@WordPress@Blogger@tumblr\": {\"frequency\": 1, \"value\": \"@WordPress@Blogger ...\"}, \"@meerantj\": {\"frequency\": 1, \"value\": \"@meerantj\"}, \"@ParkInnBelfast@support\": {\"frequency\": 1, \"value\": \"@ParkInnBelfast@su ...\"}, \"@ManoDestra@support\": {\"frequency\": 1, \"value\": \"@ManoDestra@suppor ...\"}, \"@urbandictionary\": {\"frequency\": 1, \"value\": \"@urbandictionary\"}, \"@anywhere\": {\"frequency\": 1, \"value\": \"@anywhere\"}, \"@TwitterDev@Flight\": {\"frequency\": 1, \"value\": \"@TwitterDev@Flight\"}, \"@kurrik@twitterapi\": {\"frequency\": 1, \"value\": \"@kurrik@twitterapi\"}, \"@TwitterOSS@kevino\": {\"frequency\": 1, \"value\": \"@TwitterOSS@kevino\"}, \"@TwitterDev@jbulava\": {\"frequency\": 1, \"value\": \"@TwitterDev@jbulav ...\"}, \"@haliiif@support\": {\"frequency\": 1, \"value\": \"@haliiif@support\"}, \"@benward\": {\"frequency\": 1, \"value\": \"@benward\"}, \"@BillPull\": {\"frequency\": 1, \"value\": \"@BillPull\"}, \"@foetusite\": {\"frequency\": 1, \"value\": \"@foetusite\"}, \"@gnip\": {\"frequency\": 1, \"value\": \"@gnip\"}, \"@fabric\": {\"frequency\": 1, \"value\": \"@fabric\"}, \"@therealjeffpark\": {\"frequency\": 1, \"value\": \"@therealjeffpark\"}, \"@AdsAPI\": {\"frequency\": 5, \"value\": \"@AdsAPI\"}, \"@TwitterDev\": {\"frequency\": 9, \"value\": \"@TwitterDev\"}, \"@tbrd\": {\"frequency\": 1, \"value\": \"@tbrd\"}, \"@gov\": {\"frequency\": 1, \"value\": \"@gov\"}}, \"size\": 228}, \"selected_variable\": {\"name\": [\"<SArray>\"], \"dtype\": \"str\", \"view_component\": \"Categorical\", \"view_file\": \"sarray\", \"descriptives\": {\"rows\": 228}, \"type\": \"SArray\", \"view_components\": [\"Categorical\"]}, \"histogram\": null}, e);\n",
       "                });\n",
       "            })();\n",
       "        "
      ]
     },
     "metadata": {},
     "output_type": "display_data"
    }
   ],
   "source": [
    "tweets_useful['@person'].show(view = 'Categorical')"
   ]
  },
  {
   "cell_type": "code",
   "execution_count": 10,
   "metadata": {
    "collapsed": false
   },
   "outputs": [
    {
     "data": {
      "text/plain": [
       "<bound method SFrame.column_names of Columns:\n",
       "\tid\tint\n",
       "\tcreated_at\tstr\n",
       "\ttext\tstr\n",
       "\tlinks\tstr\n",
       "\t@person\tstr\n",
       "\n",
       "Rows: 228\n",
       "\n",
       "Data:\n",
       "+--------------------+------------+-------------------------------+\n",
       "|         id         | created_at |              text             |\n",
       "+--------------------+------------+-------------------------------+\n",
       "| 745596132462571520 | 2016-06-22 | API support for 140 second... |\n",
       "| 740204101112365056 | 2016-06-07 | The recent oEmbed updates ... |\n",
       "| 738734277123309569 | 2016-06-03 | @twitterapi This change is... |\n",
       "| 737583864801955840 | 2016-05-31 | RT @AdsAPI: Twitter Ads SD... |\n",
       "| 736201038013812737 | 2016-05-27 | Announcing oEmbed support ... |\n",
       "| 735128881808691200 | 2016-05-24 | Information on the upcomin... |\n",
       "| 733680405824602112 | 2016-05-20 | The disruption to https://... |\n",
       "| 733663639002042368 | 2016-05-20 | We are investigating a tem... |\n",
       "| 731219141630234624 | 2016-05-13 | The Streaming API has been... |\n",
       "| 727606098396631040 | 2016-05-03 | MP4 URLs in the Tweet payl... |\n",
       "+--------------------+------------+-------------------------------+\n",
       "+-------------------------+-------------+\n",
       "|          links          |   @person   |\n",
       "+-------------------------+-------------+\n",
       "| https://t.co/zS8cEXrIdX |             |\n",
       "| https://t.co/rxHbAfTcb8 |             |\n",
       "| https://t.co/JPlzzfg9Yr | @twitterapi |\n",
       "| https://t.co/XUQjKa5s2B |   @AdsAPI   |\n",
       "| https://t.co/7WPKgoBENs |             |\n",
       "| https://t.co/V8PTcAL9Cs |             |\n",
       "| https://t.co/tLBVlxZilk |             |\n",
       "| https://t.co/tLBVlxZilk |             |\n",
       "| https://t.co/vSEnUALL8e |             |\n",
       "| https://t.co/v1nOOdkucr |             |\n",
       "+-------------------------+-------------+\n",
       "[228 rows x 5 columns]\n",
       "Note: Only the head of the SFrame is printed.\n",
       "You can use print_rows(num_rows=m, num_columns=n) to print more rows and columns.>"
      ]
     },
     "execution_count": 10,
     "metadata": {},
     "output_type": "execute_result"
    }
   ],
   "source": [
    "tweets_useful.column_names"
   ]
  },
  {
   "cell_type": "code",
   "execution_count": 11,
   "metadata": {
    "collapsed": false
   },
   "outputs": [
    {
     "data": {
      "text/html": [
       "<div style=\"max-height:1000px;max-width:1500px;overflow:auto;\"><table frame=\"box\" rules=\"cols\">\n",
       "    <tr>\n",
       "        <th style=\"padding-left: 1em; padding-right: 1em; text-align: center\">created_at</th>\n",
       "        <th style=\"padding-left: 1em; padding-right: 1em; text-align: center\">text</th>\n",
       "        <th style=\"padding-left: 1em; padding-right: 1em; text-align: center\">links</th>\n",
       "        <th style=\"padding-left: 1em; padding-right: 1em; text-align: center\">@person</th>\n",
       "    </tr>\n",
       "    <tr>\n",
       "        <td style=\"padding-left: 1em; padding-right: 1em; text-align: center; vertical-align: top\">2016-06-22</td>\n",
       "        <td style=\"padding-left: 1em; padding-right: 1em; text-align: center; vertical-align: top\">API support for 140<br>second video upload ...</td>\n",
       "        <td style=\"padding-left: 1em; padding-right: 1em; text-align: center; vertical-align: top\">https://t.co/zS8cEXrIdX</td>\n",
       "        <td style=\"padding-left: 1em; padding-right: 1em; text-align: center; vertical-align: top\"></td>\n",
       "    </tr>\n",
       "    <tr>\n",
       "        <td style=\"padding-left: 1em; padding-right: 1em; text-align: center; vertical-align: top\">2016-06-07</td>\n",
       "        <td style=\"padding-left: 1em; padding-right: 1em; text-align: center; vertical-align: top\">The recent oEmbed updates<br>for timelines make ad ...</td>\n",
       "        <td style=\"padding-left: 1em; padding-right: 1em; text-align: center; vertical-align: top\">https://t.co/rxHbAfTcb8</td>\n",
       "        <td style=\"padding-left: 1em; padding-right: 1em; text-align: center; vertical-align: top\"></td>\n",
       "    </tr>\n",
       "    <tr>\n",
       "        <td style=\"padding-left: 1em; padding-right: 1em; text-align: center; vertical-align: top\">2016-06-03</td>\n",
       "        <td style=\"padding-left: 1em; padding-right: 1em; text-align: center; vertical-align: top\">@twitterapi This change<br>is now in effect. iOS ...</td>\n",
       "        <td style=\"padding-left: 1em; padding-right: 1em; text-align: center; vertical-align: top\">https://t.co/JPlzzfg9Yr</td>\n",
       "        <td style=\"padding-left: 1em; padding-right: 1em; text-align: center; vertical-align: top\">@twitterapi</td>\n",
       "    </tr>\n",
       "    <tr>\n",
       "        <td style=\"padding-left: 1em; padding-right: 1em; text-align: center; vertical-align: top\">2016-05-31</td>\n",
       "        <td style=\"padding-left: 1em; padding-right: 1em; text-align: center; vertical-align: top\">RT @AdsAPI: Twitter Ads<br>SDK for Ruby v1.0.0,  ...</td>\n",
       "        <td style=\"padding-left: 1em; padding-right: 1em; text-align: center; vertical-align: top\">https://t.co/XUQjKa5s2B</td>\n",
       "        <td style=\"padding-left: 1em; padding-right: 1em; text-align: center; vertical-align: top\">@AdsAPI</td>\n",
       "    </tr>\n",
       "    <tr>\n",
       "        <td style=\"padding-left: 1em; padding-right: 1em; text-align: center; vertical-align: top\">2016-05-27</td>\n",
       "        <td style=\"padding-left: 1em; padding-right: 1em; text-align: center; vertical-align: top\">Announcing oEmbed support<br>for embedded timelines ...</td>\n",
       "        <td style=\"padding-left: 1em; padding-right: 1em; text-align: center; vertical-align: top\">https://t.co/7WPKgoBENs</td>\n",
       "        <td style=\"padding-left: 1em; padding-right: 1em; text-align: center; vertical-align: top\"></td>\n",
       "    </tr>\n",
       "    <tr>\n",
       "        <td style=\"padding-left: 1em; padding-right: 1em; text-align: center; vertical-align: top\">2016-05-24</td>\n",
       "        <td style=\"padding-left: 1em; padding-right: 1em; text-align: center; vertical-align: top\">Information on the<br>upcoming changes to ...</td>\n",
       "        <td style=\"padding-left: 1em; padding-right: 1em; text-align: center; vertical-align: top\">https://t.co/V8PTcAL9Cs</td>\n",
       "        <td style=\"padding-left: 1em; padding-right: 1em; text-align: center; vertical-align: top\"></td>\n",
       "    </tr>\n",
       "    <tr>\n",
       "        <td style=\"padding-left: 1em; padding-right: 1em; text-align: center; vertical-align: top\">2016-05-20</td>\n",
       "        <td style=\"padding-left: 1em; padding-right: 1em; text-align: center; vertical-align: top\">The disruption to<br>https://t.co/tLBVlxZilk ...</td>\n",
       "        <td style=\"padding-left: 1em; padding-right: 1em; text-align: center; vertical-align: top\">https://t.co/tLBVlxZilk</td>\n",
       "        <td style=\"padding-left: 1em; padding-right: 1em; text-align: center; vertical-align: top\"></td>\n",
       "    </tr>\n",
       "    <tr>\n",
       "        <td style=\"padding-left: 1em; padding-right: 1em; text-align: center; vertical-align: top\">2016-05-20</td>\n",
       "        <td style=\"padding-left: 1em; padding-right: 1em; text-align: center; vertical-align: top\">We are investigating a<br>temporary issue affec ...</td>\n",
       "        <td style=\"padding-left: 1em; padding-right: 1em; text-align: center; vertical-align: top\">https://t.co/tLBVlxZilk</td>\n",
       "        <td style=\"padding-left: 1em; padding-right: 1em; text-align: center; vertical-align: top\"></td>\n",
       "    </tr>\n",
       "    <tr>\n",
       "        <td style=\"padding-left: 1em; padding-right: 1em; text-align: center; vertical-align: top\">2016-05-13</td>\n",
       "        <td style=\"padding-left: 1em; padding-right: 1em; text-align: center; vertical-align: top\">The Streaming API has<br>been fully operational. ...</td>\n",
       "        <td style=\"padding-left: 1em; padding-right: 1em; text-align: center; vertical-align: top\">https://t.co/vSEnUALL8e</td>\n",
       "        <td style=\"padding-left: 1em; padding-right: 1em; text-align: center; vertical-align: top\"></td>\n",
       "    </tr>\n",
       "    <tr>\n",
       "        <td style=\"padding-left: 1em; padding-right: 1em; text-align: center; vertical-align: top\">2016-05-03</td>\n",
       "        <td style=\"padding-left: 1em; padding-right: 1em; text-align: center; vertical-align: top\">MP4 URLs in the Tweet<br>payload will be retired ...</td>\n",
       "        <td style=\"padding-left: 1em; padding-right: 1em; text-align: center; vertical-align: top\">https://t.co/v1nOOdkucr</td>\n",
       "        <td style=\"padding-left: 1em; padding-right: 1em; text-align: center; vertical-align: top\"></td>\n",
       "    </tr>\n",
       "</table>\n",
       "[228 rows x 4 columns]<br/>Note: Only the head of the SFrame is printed.<br/>You can use print_rows(num_rows=m, num_columns=n) to print more rows and columns.\n",
       "</div>"
      ],
      "text/plain": [
       "Columns:\n",
       "\tcreated_at\tstr\n",
       "\ttext\tstr\n",
       "\tlinks\tstr\n",
       "\t@person\tstr\n",
       "\n",
       "Rows: 228\n",
       "\n",
       "Data:\n",
       "+------------+-------------------------------+-------------------------+\n",
       "| created_at |              text             |          links          |\n",
       "+------------+-------------------------------+-------------------------+\n",
       "| 2016-06-22 | API support for 140 second... | https://t.co/zS8cEXrIdX |\n",
       "| 2016-06-07 | The recent oEmbed updates ... | https://t.co/rxHbAfTcb8 |\n",
       "| 2016-06-03 | @twitterapi This change is... | https://t.co/JPlzzfg9Yr |\n",
       "| 2016-05-31 | RT @AdsAPI: Twitter Ads SD... | https://t.co/XUQjKa5s2B |\n",
       "| 2016-05-27 | Announcing oEmbed support ... | https://t.co/7WPKgoBENs |\n",
       "| 2016-05-24 | Information on the upcomin... | https://t.co/V8PTcAL9Cs |\n",
       "| 2016-05-20 | The disruption to https://... | https://t.co/tLBVlxZilk |\n",
       "| 2016-05-20 | We are investigating a tem... | https://t.co/tLBVlxZilk |\n",
       "| 2016-05-13 | The Streaming API has been... | https://t.co/vSEnUALL8e |\n",
       "| 2016-05-03 | MP4 URLs in the Tweet payl... | https://t.co/v1nOOdkucr |\n",
       "+------------+-------------------------------+-------------------------+\n",
       "+-------------+\n",
       "|   @person   |\n",
       "+-------------+\n",
       "|             |\n",
       "|             |\n",
       "| @twitterapi |\n",
       "|   @AdsAPI   |\n",
       "|             |\n",
       "|             |\n",
       "|             |\n",
       "|             |\n",
       "|             |\n",
       "|             |\n",
       "+-------------+\n",
       "[228 rows x 4 columns]\n",
       "Note: Only the head of the SFrame is printed.\n",
       "You can use print_rows(num_rows=m, num_columns=n) to print more rows and columns."
      ]
     },
     "execution_count": 11,
     "metadata": {},
     "output_type": "execute_result"
    }
   ],
   "source": [
    "tweets_useful.remove_columns(['id'])"
   ]
  },
  {
   "cell_type": "markdown",
   "metadata": {},
   "source": [
    "**Save it**"
   ]
  },
  {
   "cell_type": "code",
   "execution_count": 12,
   "metadata": {
    "collapsed": false
   },
   "outputs": [],
   "source": [
    "tweets_useful.save('tweets_useful', format='csv')"
   ]
  }
 ],
 "metadata": {
  "kernelspec": {
   "display_name": "Python [dato-env]",
   "language": "python",
   "name": "Python [dato-env]"
  },
  "language_info": {
   "codemirror_mode": {
    "name": "ipython",
    "version": 2
   },
   "file_extension": ".py",
   "mimetype": "text/x-python",
   "name": "python",
   "nbconvert_exporter": "python",
   "pygments_lexer": "ipython2",
   "version": "2.7.11"
  }
 },
 "nbformat": 4,
 "nbformat_minor": 0
}
